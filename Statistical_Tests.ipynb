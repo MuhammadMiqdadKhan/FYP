{
  "nbformat": 4,
  "nbformat_minor": 0,
  "metadata": {
    "colab": {
      "name": "Statistical Tests.ipynb",
      "provenance": [],
      "collapsed_sections": [],
      "authorship_tag": "ABX9TyMpjPe2ptP+lVvafLpbqcV8",
      "include_colab_link": true
    },
    "kernelspec": {
      "name": "python3",
      "display_name": "Python 3"
    }
  },
  "cells": [
    {
      "cell_type": "markdown",
      "metadata": {
        "id": "view-in-github",
        "colab_type": "text"
      },
      "source": [
        "<a href=\"https://colab.research.google.com/github/MuhammadMiqdadKhan/FYP/blob/main/Statistical_Tests.ipynb\" target=\"_parent\"><img src=\"https://colab.research.google.com/assets/colab-badge.svg\" alt=\"Open In Colab\"/></a>"
      ]
    },
    {
      "cell_type": "markdown",
      "metadata": {
        "id": "L-3sCSVyiHEi"
      },
      "source": [
        "**T-Test**"
      ]
    },
    {
      "cell_type": "code",
      "metadata": {
        "id": "6SYRZ7Vch-1_"
      },
      "source": [
        "from scipy import stats\r\n",
        "\r\n",
        "t2, p2 = stats.ttest_rel([32,18,22,18,22],\r\n",
        "                         [23,19,21,26,24])    \r\n",
        "print(\"t = \" + str(t2))\r\n",
        "print(\"p = \" + str(p2))"
      ],
      "execution_count": null,
      "outputs": []
    },
    {
      "cell_type": "markdown",
      "metadata": {
        "id": "7UtY8fpYiMlc"
      },
      "source": [
        "**Chi Square**"
      ]
    },
    {
      "cell_type": "code",
      "metadata": {
        "id": "7Icdx-KegF3q",
        "colab": {
          "base_uri": "https://localhost:8080/"
        },
        "outputId": "4f52b1a1-d9c8-4f00-c28c-f5fdd5b54c21"
      },
      "source": [
        "from scipy.stats import chi2_contingency\r\n",
        "obs = np.array([[6,4,12,0,8],[10,2,12,8,10]])\r\n",
        "chi2, p, dof, ex =chi2_contingency(obs)\r\n",
        "print(\"chi2 = \", chi2)\r\n",
        "print(\"p = \",p)\r\n",
        "print(\"dof = \",dof)\r\n",
        "print(\"expected \\n\",ex)"
      ],
      "execution_count": 30,
      "outputs": [
        {
          "output_type": "stream",
          "text": [
            "chi2 =  8.114285714285714\n",
            "p =  0.08748034092029572\n",
            "dof =  4\n",
            "expected \n",
            " [[ 6.66666667  2.5        10.          3.33333333  7.5       ]\n",
            " [ 9.33333333  3.5        14.          4.66666667 10.5       ]]\n"
          ],
          "name": "stdout"
        }
      ]
    },
    {
      "cell_type": "code",
      "metadata": {
        "id": "wiAiGkaRlM6L"
      },
      "source": [
        ""
      ],
      "execution_count": null,
      "outputs": []
    }
  ]
}