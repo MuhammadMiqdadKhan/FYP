{
  "nbformat": 4,
  "nbformat_minor": 0,
  "metadata": {
    "colab": {
      "name": "Statistical Tests.ipynb",
      "provenance": [],
      "authorship_tag": "ABX9TyOcU+gm6sL+Ow0+cqVqm8Ss",
      "include_colab_link": true
    },
    "kernelspec": {
      "name": "python3",
      "display_name": "Python 3"
    }
  },
  "cells": [
    {
      "cell_type": "markdown",
      "metadata": {
        "id": "view-in-github",
        "colab_type": "text"
      },
      "source": [
        "<a href=\"https://colab.research.google.com/github/MuhammadMiqdadKhan/FYP/blob/main/Statistical_Tests.ipynb\" target=\"_parent\"><img src=\"https://colab.research.google.com/assets/colab-badge.svg\" alt=\"Open In Colab\"/></a>"
      ]
    },
    {
      "cell_type": "markdown",
      "metadata": {
        "id": "L-3sCSVyiHEi"
      },
      "source": [
        "**T-Test**"
      ]
    },
    {
      "cell_type": "code",
      "metadata": {
        "id": "6SYRZ7Vch-1_"
      },
      "source": [
        "from scipy import stats\r\n",
        "\r\n",
        "t2, p2 = stats.ttest_rel([32,18,22,18,22],\r\n",
        "                         [23,19,21,26,24])    \r\n",
        "print(\"t = \" + str(t2))\r\n",
        "print(\"p = \" + str(p2))"
      ],
      "execution_count": null,
      "outputs": []
    },
    {
      "cell_type": "markdown",
      "metadata": {
        "id": "7UtY8fpYiMlc"
      },
      "source": [
        "**Chi Square**"
      ]
    },
    {
      "cell_type": "code",
      "metadata": {
        "colab": {
          "base_uri": "https://localhost:8080/"
        },
        "id": "DtvU4lrsdkqg",
        "outputId": "a0ed3ac9-a91c-4fcb-9905-583619dda549"
      },
      "source": [
        "from scipy.stats import chi2_contingency\r\n",
        "obs = np.array([[10,8,14,12,12],[24,8,6,12,22]])\r\n",
        "chi2, p, dof, ex =chi2_contingency(obs)\r\n",
        "print(\"chi2 = \" + str(chi2))\r\n",
        "print(\"p = \" + str(p))\r\n",
        "print(\"dof = \" + str(dof))\r\n",
        "print(\"expected = \" + str(ex))"
      ],
      "execution_count": 13,
      "outputs": [
        {
          "output_type": "stream",
          "text": [
            "chi2 = 10.06311858076564\n",
            "p = 0.039377774363800376\n",
            "dof = 4\n",
            "expected = [[14.875  7.     8.75  10.5   14.875]\n",
            " [19.125  9.    11.25  13.5   19.125]]\n"
          ],
          "name": "stdout"
        }
      ]
    },
    {
      "cell_type": "code",
      "metadata": {
        "id": "7Icdx-KegF3q"
      },
      "source": [
        ""
      ],
      "execution_count": null,
      "outputs": []
    }
  ]
}